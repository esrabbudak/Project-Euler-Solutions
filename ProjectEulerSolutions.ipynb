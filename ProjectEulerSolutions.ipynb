{
 "cells": [
  {
   "cell_type": "markdown",
   "metadata": {},
   "source": [
    "**Problem 1:**\n",
    "\n",
    "Eğer 10'dan küçük olan ve 3'e veya 5'e tam bölünebilen tüm doğal sayıları listeleyecek olursak, 3, 5, 6 ve 9'u elde ederiz. Bu sayıların toplamı 23'tür.\n",
    "1000'den küçük olan ve 3'e veya 5'e tam bölünebilen sayıların toplamını bulun.\n",
    "\n",
    "**Zaman Karmaşıklığı Açıklama:**\n",
    "\n",
    "- Döngü 1'den 1000'e kadar çalışır, yani 1000 iterasyon var.\n",
    "- check(i) fonksiyonu sabit zamanda (O(1)) çalışır, çünkü sadece iki mod işlemi vardır.\n",
    "- Toplamda **O(N)** olur.\n",
    "\n"
   ]
  },
  {
   "cell_type": "code",
   "execution_count": 9,
   "metadata": {},
   "outputs": [
    {
     "name": "stdout",
     "output_type": "stream",
     "text": [
      "233168\n"
     ]
    }
   ],
   "source": [
    "def check(x):\n",
    "    if x % 3 == 0 or x % 5 == 0:\n",
    "        return True\n",
    "    else:\n",
    "        return False\n",
    "\n",
    "sum = 0 \n",
    "\n",
    "for i in range(1,1000):\n",
    "    if check(i):\n",
    "        sum +=i\n",
    "\n",
    "print(sum)\n"
   ]
  },
  {
   "attachments": {
    "image.png": {
     "image/png": "[encoded data removed]"
    }
   },
   "cell_type": "markdown",
   "metadata": {},
   "source": [
    "**Problem 2: Çift Fibonacci Sayıları**\n",
    "\n",
    "Fibonacci dizisindeki her yeni terim, önceki iki terimin toplamıyla oluşturulur. 1 ve 2 ile başlandığında, ilk 10 terim şu şekildedir:\n",
    "1, 2, 3, 5, 8, 13, 21, 34, 55, 89, ...\n",
    "\n",
    "Fibonacci dizisinde değeri dört milyonu geçmeyen terimleri dikkate alarak, çift değerli terimlerin toplamını bulun.\n",
    "\n",
    "![image.png](attachment:image.png)\n",
    "\n",
    "\n",
    "**Zaman Karmaşıklığı:**\n",
    "- Döngü: for i in range(1, 1000) ifadesi N defa çalışır.\n",
    "- Koşul Kontrolü: check(i) fonksiyonu sabit sürede (O(1)) çalışır çünkü sadece iki mod alma işlemi (%) vardır.\n",
    "- Sonuç: Döngü N kere çalıştığı için toplamda **O(N)** olur.\n",
    "\n"
   ]
  },
  {
   "cell_type": "code",
   "execution_count": 1,
   "metadata": {},
   "outputs": [
    {
     "name": "stdout",
     "output_type": "stream",
     "text": [
      "4613732\n"
     ]
    }
   ],
   "source": [
    "def even_fibonacci_sum(limit):\n",
    "    first_num, second_num = 1,2\n",
    "    total = 0\n",
    "\n",
    "    # Fibonacci dizisi oluşturulur, her seferinde yeni terim hesaplanır\n",
    "\n",
    "    while second_num <= limit:\n",
    "        if second_num % 2 == 0: #eğer sayı çift ise\n",
    "            total += second_num # çift sayıyı toplamımıza ekler\n",
    "\n",
    "        #yeni terimler oluşturulur.\n",
    "        next_num = first_num + second_num\n",
    "        first_num = second_num\n",
    "        second_num = next_num\n",
    "\n",
    "    return total # Sonuç olarak toplamı döndürür\n",
    "\n",
    "# 4 milyon sınırı için çağır\n",
    "result = even_fibonacci_sum(4_000_000)\n",
    "print(result)\n"
   ]
  },
  {
   "cell_type": "markdown",
   "metadata": {},
   "source": [
    "**Problem 3: Largest Prime Factor (En Büyük Asal Çarpan)**\n",
    "\n",
    "600851475143 sayısının en büyük asal çarpanını bulun.\n",
    "\n",
    "**Yöntem:** Trial Division (Akıllı Bölme)\n",
    "Bu yöntem, sadece asal sayılarla bölerek gereksiz işlemleri azaltır.\n",
    "\n",
    "- Önce 2’ye bölerek çift sayıları temizler.\n",
    "- Sonra 3’ten başlayarak sadece tek sayılarla devam eder.\n",
    "- √n'e kadar bölerek gereksiz hesaplamaları önler.\n",
    "\n",
    "**Zaman Karmaşıklığı:**\n",
    "\n",
    "- while n % 2 == 0: O(log N) (Çünkü bölme işlemi yapılıyor)\n",
    "- for i in range(3, sqrt(n), 2): O(√N) (Asalları test ediyor)\n",
    "- Genel olarak **O(√N)** olur."
   ]
  },
  {
   "cell_type": "code",
   "execution_count": null,
   "metadata": {},
   "outputs": [
    {
     "name": "stdout",
     "output_type": "stream",
     "text": [
      "6857\n"
     ]
    }
   ],
   "source": [
    "import math\n",
    "\n",
    "def largest_prime_factor(n):\n",
    "    # önce 2 ile bölme\n",
    "    while n % 2 ==0:\n",
    "        largest = 2\n",
    "        n //= 2\n",
    "\n",
    "    # 3 ve sonrasındaki tek sayıları kontrol et\n",
    "    for i in range(3, int(math.sqrt(n)) +1, 2):\n",
    "        while n % i == 0:\n",
    "            largest = i\n",
    "            n //= i\n",
    "\n",
    "    # Kalan sayı asal ise, en büyük asal çarpan budur\n",
    "    if n > 2:\n",
    "        largest = n\n",
    "\n",
    "    return largest\n",
    "\n",
    "    \n",
    "n = 600851475143\n",
    "print(largest_prime_factor(n))"
   ]
  },
  {
   "cell_type": "markdown",
   "metadata": {},
   "source": [
    "**Problem 4**\n",
    "İki 3 basamaklı sayının çarpımıyla elde edilebilecek en büyük palindromik sayı nedir?\n",
    "\n",
    "Tanım:\n",
    "Palindromik Sayı: Tersten okunduğunda da aynı olan sayılar. (Örnek: 121, 9009, 1001)\n",
    "\n",
    "**Zaman karmaşıklığı**\n",
    "\n",
    "- Dış döngü: O(900) iterasyon (999'dan 100'e kadar)\n",
    "- İç döngü: Her dış döngüde, iç döngü yaklaşık O(i) iterasyon yapar, burada i dış döngüdeki sayıdır.\n",
    "- Toplam karmaşıklık: O(n^2), burada n = 900 (3 basamaklı sayılar).\n",
    "Bu durumda toplam karmaşıklık O(900^2) yani **O(n^2)**'dir."
   ]
  },
  {
   "cell_type": "code",
   "execution_count": null,
   "metadata": {},
   "outputs": [
    {
     "name": "stdout",
     "output_type": "stream",
     "text": [
      "906609\n"
     ]
    }
   ],
   "source": [
    "def is_palindrome(num):\n",
    "    # Sayıyı string'e çevirip tersten kontrol et\n",
    "    return str(num) == str(num)[::-1]\n",
    "\n",
    "def largest_palindrome():\n",
    "    max_palindrome = 0  \n",
    "    for i in range(999, 99, -1):  # 999'dan 100'e kadar geri git\n",
    "        for j in range(i, 99, -1):  # j de i'ye kadar geri gitsin\n",
    "            product = i * j  \n",
    "            if is_palindrome(product) and product > max_palindrome:\n",
    "                max_palindrome = product  # Yeni en büyük palindromu bulursak kaydet\n",
    "    return max_palindrome  # Sonuç olarak en büyük palindromu döndür\n",
    "\n",
    "print(largest_palindrome()) \n"
   ]
  }
 ],
 "metadata": {
  "kernelspec": {
   "display_name": "Python 3",
   "language": "python",
   "name": "python3"
  },
  "language_info": {
   "codemirror_mode": {
    "name": "ipython",
    "version": 3
   },
   "file_extension": ".py",
   "mimetype": "text/x-python",
   "name": "python",
   "nbconvert_exporter": "python",
   "pygments_lexer": "ipython3",
   "version": "3.12.3"
  }
 },
 "nbformat": 4,
 "nbformat_minor": 2
}
